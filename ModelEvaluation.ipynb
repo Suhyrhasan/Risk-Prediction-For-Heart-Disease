{
 "cells": [
  {
   "cell_type": "code",
   "execution_count": null,
   "metadata": {},
   "outputs": [],
   "source": [
    "from sklearn.metrics import accuracy_score, precision_score, recall_score, f1_score, roc_curve, roc_auc_score, confusion_matrix\n",
    "\n",
    "# Evaluate model\n",
    "def evaluate_model(model, x_test, y_test):\n",
    "    y_prediction = model.predict(x_test)\n",
    "\n",
    "    # Calc accuracy, precision, recall, f1-score\n",
    "    accuracy = accuracy_score(y_test, y_prediction)\n",
    "    precision = precision_score(y_test, y_prediction)\n",
    "    recall = recall_score(y_test, y_prediction)\n",
    "    f1 = f1_score(y_test, y_prediction)\n",
    "\n",
    "    # Calc AUC\n",
    "    y_prediction_prob = model.predict_proba(x_test)[::, 1]\n",
    "    fpr, tpr, _ = roc_curve(y_test, y_prediction_prob)\n",
    "    auc = roc_auc_score(y_test, y_prediction_prob)\n",
    "\n",
    "    # Confusion Matrix\n",
    "    matrix = confusion_matrix(y_test, y_prediction)\n",
    "    return [accuracy, precision, recall, f1, fpr, tpr, auc]\n"
   ]
  }
 ],
 "metadata": {
  "language_info": {
   "name": "python"
  },
  "orig_nbformat": 4
 },
 "nbformat": 4,
 "nbformat_minor": 2
}
